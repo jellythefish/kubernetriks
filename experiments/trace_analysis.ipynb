{
 "cells": [
  {
   "cell_type": "markdown",
   "metadata": {},
   "source": [
    "Leave only add events in cluster trace."
   ]
  },
  {
   "cell_type": "code",
   "execution_count": 3,
   "metadata": {},
   "outputs": [
    {
     "name": "stderr",
     "output_type": "stream",
     "text": [
      "/tmp/ipykernel_2881/2152793058.py:1: DeprecationWarning: \n",
      "Pyarrow will become a required dependency of pandas in the next major release of pandas (pandas 3.0),\n",
      "(to allow more performant data types, such as the Arrow string type, and better interoperability with other libraries)\n",
      "but was not found to be installed on your system.\n",
      "If this would cause problems for you,\n",
      "please provide us feedback at https://github.com/pandas-dev/pandas/issues/54466\n",
      "        \n",
      "  import pandas as pd\n"
     ]
    },
    {
     "data": {
      "text/html": [
       "<div>\n",
       "<style scoped>\n",
       "    .dataframe tbody tr th:only-of-type {\n",
       "        vertical-align: middle;\n",
       "    }\n",
       "\n",
       "    .dataframe tbody tr th {\n",
       "        vertical-align: top;\n",
       "    }\n",
       "\n",
       "    .dataframe thead th {\n",
       "        text-align: right;\n",
       "    }\n",
       "</style>\n",
       "<table border=\"1\" class=\"dataframe\">\n",
       "  <thead>\n",
       "    <tr style=\"text-align: right;\">\n",
       "      <th></th>\n",
       "      <th>timestamp</th>\n",
       "      <th>machine_id</th>\n",
       "      <th>number_of_cpus</th>\n",
       "      <th>normalized_memory</th>\n",
       "      <th>normalized_disk_space</th>\n",
       "    </tr>\n",
       "  </thead>\n",
       "  <tbody>\n",
       "    <tr>\n",
       "      <th>count</th>\n",
       "      <td>1313.0</td>\n",
       "      <td>1313.000000</td>\n",
       "      <td>1313.0</td>\n",
       "      <td>1313.000000</td>\n",
       "      <td>1313.000000</td>\n",
       "    </tr>\n",
       "    <tr>\n",
       "      <th>mean</th>\n",
       "      <td>0.0</td>\n",
       "      <td>657.000000</td>\n",
       "      <td>64.0</td>\n",
       "      <td>0.692729</td>\n",
       "      <td>0.999286</td>\n",
       "    </tr>\n",
       "    <tr>\n",
       "      <th>std</th>\n",
       "      <td>0.0</td>\n",
       "      <td>379.174762</td>\n",
       "      <td>0.0</td>\n",
       "      <td>0.029690</td>\n",
       "      <td>0.024972</td>\n",
       "    </tr>\n",
       "    <tr>\n",
       "      <th>min</th>\n",
       "      <td>0.0</td>\n",
       "      <td>1.000000</td>\n",
       "      <td>64.0</td>\n",
       "      <td>0.574788</td>\n",
       "      <td>0.095725</td>\n",
       "    </tr>\n",
       "    <tr>\n",
       "      <th>25%</th>\n",
       "      <td>0.0</td>\n",
       "      <td>329.000000</td>\n",
       "      <td>64.0</td>\n",
       "      <td>0.689970</td>\n",
       "      <td>1.000000</td>\n",
       "    </tr>\n",
       "    <tr>\n",
       "      <th>50%</th>\n",
       "      <td>0.0</td>\n",
       "      <td>657.000000</td>\n",
       "      <td>64.0</td>\n",
       "      <td>0.689970</td>\n",
       "      <td>1.000000</td>\n",
       "    </tr>\n",
       "    <tr>\n",
       "      <th>75%</th>\n",
       "      <td>0.0</td>\n",
       "      <td>985.000000</td>\n",
       "      <td>64.0</td>\n",
       "      <td>0.690001</td>\n",
       "      <td>1.000000</td>\n",
       "    </tr>\n",
       "    <tr>\n",
       "      <th>max</th>\n",
       "      <td>0.0</td>\n",
       "      <td>1313.000000</td>\n",
       "      <td>64.0</td>\n",
       "      <td>1.000000</td>\n",
       "      <td>1.000000</td>\n",
       "    </tr>\n",
       "  </tbody>\n",
       "</table>\n",
       "</div>"
      ],
      "text/plain": [
       "       timestamp   machine_id  number_of_cpus  normalized_memory  \\\n",
       "count     1313.0  1313.000000          1313.0        1313.000000   \n",
       "mean         0.0   657.000000            64.0           0.692729   \n",
       "std          0.0   379.174762             0.0           0.029690   \n",
       "min          0.0     1.000000            64.0           0.574788   \n",
       "25%          0.0   329.000000            64.0           0.689970   \n",
       "50%          0.0   657.000000            64.0           0.689970   \n",
       "75%          0.0   985.000000            64.0           0.690001   \n",
       "max          0.0  1313.000000            64.0           1.000000   \n",
       "\n",
       "       normalized_disk_space  \n",
       "count            1313.000000  \n",
       "mean                0.999286  \n",
       "std                 0.024972  \n",
       "min                 0.095725  \n",
       "25%                 1.000000  \n",
       "50%                 1.000000  \n",
       "75%                 1.000000  \n",
       "max                 1.000000  "
      ]
     },
     "execution_count": 3,
     "metadata": {},
     "output_type": "execute_result"
    }
   ],
   "source": [
    "import pandas as pd\n",
    "colnames=['timestamp', 'machine_id', 'event_type', 'event_detail', 'number_of_cpus', 'normalized_memory', 'normalized_disk_space'] \n",
    "machine_events = pd.read_csv('server_event.csv', names=colnames, header=None)\n",
    "machine_events = machine_events[machine_events['event_type'] == \"add\"]\n",
    "machine_events.to_csv('server_event_add_only.csv', index=False, header=False)\n",
    "machine_events.describe()"
   ]
  },
  {
   "cell_type": "markdown",
   "metadata": {},
   "source": [
    "Find all number of instances as sum of instances from all batch tasks:"
   ]
  },
  {
   "cell_type": "code",
   "execution_count": 20,
   "metadata": {},
   "outputs": [
    {
     "name": "stdout",
     "output_type": "stream",
     "text": [
      "all number of instances from tasks 11909321\n",
      "all number of instances from instance trace 16094656\n"
     ]
    }
   ],
   "source": [
    "colnames=['task_create_time', 'task_end_time', 'job_id', 'task_id', 'number_of_instances', 'status', 'number_of_cpus_requested_per_instance_in_the_task', 'normalized_memory_requested_per_instance_in_the_task'] \n",
    "batch_tasks = pd.read_csv('batch_task.csv', names=colnames, header=None)\n",
    "colnames=['start_timestamp', 'end_timestamp', 'job_id', 'task_id', 'machine_id', 'status', 'sequence_number', 'total_sequence_number', 'maximum_real_cpu_number', 'average_real_cpu_number', 'maximum_normalized_memory_usage', 'average_normalized_memory_usage'] \n",
    "batch_instances = pd.read_csv('batch_instance.csv', names=colnames, header=None)\n",
    "batch_instances[\"end_timestamp\"] = pd.to_numeric(batch_instances[\"end_timestamp\"])\n",
    "batch_instances[\"start_timestamp\"] = pd.to_numeric(batch_instances[\"start_timestamp\"])\n",
    "\n",
    "print(\"all number of instances from tasks\", sum(batch_tasks[\"number_of_instances\"]))\n",
    "print(\"all number of instances from instance trace\", len(batch_instances))"
   ]
  },
  {
   "cell_type": "markdown",
   "metadata": {},
   "source": [
    "..."
   ]
  },
  {
   "cell_type": "code",
   "execution_count": 26,
   "metadata": {},
   "outputs": [
    {
     "data": {
      "text/plain": [
       "11877251"
      ]
     },
     "execution_count": 26,
     "metadata": {},
     "output_type": "execute_result"
    }
   ],
   "source": [
    "a = batch_instances[\n",
    "    (batch_instances[\"start_timestamp\"].notnull()) &\n",
    "    (batch_instances[\"end_timestamp\"].notnull()) &\n",
    "    (batch_instances[\"task_id\"].notnull()) &\n",
    "    (batch_instances[\"end_timestamp\"] >= batch_instances[\"start_timestamp\"]) &\n",
    "    (batch_instances[\"end_timestamp\"] >= 0) &\n",
    "    (batch_instances[\"start_timestamp\"] >= 0)\n",
    "]\n",
    "len(a)"
   ]
  }
 ],
 "metadata": {
  "kernelspec": {
   "display_name": "Python 3",
   "language": "python",
   "name": "python3"
  },
  "language_info": {
   "codemirror_mode": {
    "name": "ipython",
    "version": 3
   },
   "file_extension": ".py",
   "mimetype": "text/x-python",
   "name": "python",
   "nbconvert_exporter": "python",
   "pygments_lexer": "ipython3",
   "version": "3.10.12"
  }
 },
 "nbformat": 4,
 "nbformat_minor": 2
}
